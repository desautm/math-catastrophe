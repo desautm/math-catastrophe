{
  "cells": [
    {
      "cell_type": "raw",
      "metadata": {},
      "source": [
        "---\n",
        "title: \"Habits\"\n",
        "author: \"John Doe\"\n",
        "format: revealjs\n",
        "engine: jupyter\n",
        "---"
      ],
      "id": "8a366890"
    },
    {
      "cell_type": "markdown",
      "metadata": {},
      "source": [
        "## Getting up\n",
        "\n",
        "- Turn off alarm\n",
        "- Get out of bed\n",
        "\n",
        "## Going to sleep\n",
        "\n",
        "- Get in bed\n",
        "- Count sheep\n",
        "- \n",
        "## Essai\n"
      ],
      "id": "ce759929"
    },
    {
      "cell_type": "code",
      "metadata": {},
      "source": [
        "#| label: fig-polar\n",
        "#| fig-cap: A line plot on a polar axis\n",
        "\n",
        "import numpy as np\n",
        "import matplotlib.pyplot as plt\n",
        "\n",
        "r = np.arange(0, 2, 0.01)\n",
        "theta = 2 * np.pi * r\n",
        "fig, ax = plt.subplots(\n",
        "  subplot_kw = {'projection': 'polar'} \n",
        ")\n",
        "ax.plot(theta, r)\n",
        "ax.set_rticks([0.5, 1, 1.5, 2])\n",
        "ax.grid(True)\n",
        "plt.show()"
      ],
      "id": "fig-polar",
      "execution_count": null,
      "outputs": []
    }
  ],
  "metadata": {
    "kernelspec": {
      "name": "python3",
      "language": "python",
      "display_name": "Python 3 (ipykernel)"
    }
  },
  "nbformat": 4,
  "nbformat_minor": 5
}